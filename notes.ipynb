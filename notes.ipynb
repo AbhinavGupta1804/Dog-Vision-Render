{
 "cells": [
  {
   "cell_type": "markdown",
   "id": "155bf1bf",
   "metadata": {},
   "source": [
    "## super(FeatureExtractorLayer, self).__init__(**kwargs)\n",
    " 1. Calls the Parent Class Constructor\n",
    "FeatureExtractorLayer is your custom class.\n",
    "\n",
    "Its parent class is keras.layers.Layer.\n",
    "\n",
    "So, this line ensures that all the built-in functionality of a Keras layer is initialized.\n"
   ]
  },
  {
   "cell_type": "code",
   "execution_count": null,
   "id": "355ba4e8",
   "metadata": {},
   "outputs": [],
   "source": []
  },
  {
   "cell_type": "markdown",
   "id": "e848828e",
   "metadata": {},
   "source": [
    "When you subclass a Keras layer, Keras might pass extra arguments like name, dtype, etc.\n",
    " You should accept them using **kwargs and pass them to super().__init__(**kwargs) to \n",
    " let Keras handle them internally.\n",
    "\n",
    " super(...).__init__(**kwargs) tells the parent class to initialize itself using any extra arguments\n",
    "  (like name=\"feature_extractor\" or dtype=\"float32\")\n",
    "\n",
    "\n",
    "  2. build(input_shape)\n",
    "This runs automatically the first time you pass data through the layer.\n",
    "\n",
    "It’s where you create weights or sublayers that depend on the input shape.\n",
    "\n",
    "\n"
   ]
  },
  {
   "cell_type": "markdown",
   "id": "20058be9",
   "metadata": {},
   "source": [
    "### FEATURE EXTRACTOR LAYER\n",
    "\n",
    "🔄 Flow of FeatureExtractorLayer\n",
    "### (Constructor is called)\n",
    "When you write:\n",
    "\n",
    "feature_layer = FeatureExtractorLayer(feature_extractor_url='https://...', trainable=False)\n",
    "The following happens:\n",
    "\n",
    "→ __init__() is triggered:\n",
    "Saves the feature_extractor_url and trainable flag.\n",
    "\n",
    "If a URL is provided, it creates a hub.KerasLayer (pre-trained model from TensorFlow Hub).\n",
    "\n",
    "If no URL is given, it sets self.feature_extractor = None (can initialize later in build()).\n",
    "\n",
    "### Keras Model is Built or Called\n",
    "Now, suppose you use it in a model:\n",
    "\n",
    "model = keras.Sequential([\n",
    "    FeatureExtractorLayer(feature_extractor_url='...'),\n",
    "    layers.Dense(10)\n",
    "])\n",
    "At this point:\n",
    "\n",
    "→ build(input_shape) is triggered automatically\n",
    "This happens internally when Keras knows the input shape. Inside this:\n",
    "\n",
    "It checks if self.feature_extractor is still None and a URL exists.\n",
    "\n",
    "If yes, it initializes it.\n",
    "\n",
    "Then it calls:\n",
    "\n",
    "super().build(input_shape)\n",
    "Which marks the layer as built and tracks weights.\n",
    "\n",
    "### Forward Pass: Model Receives Data\n",
    "When you call model(input_data) or model.predict(x):\n",
    "\n",
    "→ call(inputs) is executed:\n",
    "This is where your actual data goes through the feature extractor:\n",
    "\n",
    "\n",
    "return self.feature_extractor(inputs)\n",
    "So your input images are passed into the pre-trained model (like MobileNet, EfficientNet, etc.), and you get a feature vector in return.\n",
    "\n",
    "### Training or Inference Continues\n",
    "If trainable=False, the pre-trained weights are frozen.\n",
    "\n",
    "If trainable=True, they get updated during training."
   ]
  },
  {
   "cell_type": "markdown",
   "id": "684af06a",
   "metadata": {},
   "source": []
  },
  {
   "cell_type": "code",
   "execution_count": null,
   "id": "ce8ea7d8",
   "metadata": {},
   "outputs": [],
   "source": []
  },
  {
   "cell_type": "markdown",
   "id": "34af6bde",
   "metadata": {},
   "source": [
    "### why relu? \n",
    "“I used ReLU because it makes the model learn faster and better by passing only the important (positive) signals and ignoring the rest. It’s fast, avoids vanishing gradients, and works well in most deep learning problems.”"
   ]
  },
  {
   "cell_type": "code",
   "execution_count": null,
   "id": "dbfad25d",
   "metadata": {},
   "outputs": [],
   "source": []
  },
  {
   "cell_type": "markdown",
   "id": "c03ab4d7",
   "metadata": {},
   "source": [
    "### 2. loss=\"sparse_categorical_crossentropy\"\n",
    "Why?\n",
    "\n",
    "You're solving a multi-class classification problem (dog breeds).\n",
    "\n",
    "Labels are integers (like 0, 1, 2...), not one-hot encoded, so we use sparse_ version.\n",
    "\n",
    "If you had one-hot encoded labels, you'd use just categorical_crossentropy."
   ]
  },
  {
   "cell_type": "code",
   "execution_count": null,
   "id": "91b1ba52",
   "metadata": {},
   "outputs": [],
   "source": []
  },
  {
   "cell_type": "markdown",
   "id": "560d4c44",
   "metadata": {},
   "source": [
    "### Purpose of Checkpoint\n",
    "Why use it?\n",
    "You use a ModelCheckpoint to save the best version of your model during training, so that if training stops or degrades later, you still have the best-performing model saved."
   ]
  },
  {
   "cell_type": "code",
   "execution_count": null,
   "id": "a615fc10",
   "metadata": {},
   "outputs": [],
   "source": []
  },
  {
   "cell_type": "markdown",
   "id": "fc5e0b3d",
   "metadata": {},
   "source": [
    "os.listdir(sample_dir) lists all names (files and folders) inside the sample_dir directory."
   ]
  },
  {
   "cell_type": "code",
   "execution_count": null,
   "id": "7d5206a5",
   "metadata": {},
   "outputs": [],
   "source": []
  },
  {
   "cell_type": "markdown",
   "id": "7d0604fa",
   "metadata": {},
   "source": [
    "    sample_files = [f for f in os.listdir(sample_dir) \n",
    "                   if os.path.isfile(os.path.join(sample_dir, f)) and \n",
    "                   any(f.lower().endswith(ext) for ext in valid_extensions)]\n",
    "   ### first line lists all images inside sample_dir \n",
    "\n",
    "   ### second line ->\n",
    "    applies condition to select from those whose path exists and it is a file  , there is an image extension in last                 "
   ]
  },
  {
   "cell_type": "markdown",
   "id": "a5ba94dd",
   "metadata": {},
   "source": []
  },
  {
   "cell_type": "markdown",
   "id": "84c01f2a",
   "metadata": {},
   "source": [
    "When you comment out the FeatureExtractorLayer class in your Flask app, and then load a model that uses it, TensorFlow can't find the custom layer definition during model deserialization. So here's what happens:\n"
   ]
  }
 ],
 "metadata": {
  "language_info": {
   "name": "python"
  }
 },
 "nbformat": 4,
 "nbformat_minor": 5
}
